{
  "cells": [
    {
      "cell_type": "code",
      "source": [
        "from azure.identity import DefaultAzureCredential\n",
        "from azure.ai.ml import MLClient\n",
        "\n",
        "# Replace these with your values\n",
        "subscription_id = \"1655f00d-a4c4-4ef2-84e1-fe175ad5cf99\"\n",
        "resource_group = \"edforcerg\"\n",
        "workspace_name = \"edforcews\"\n",
        "\n",
        "# Create an MLClient instance\n",
        "credential = DefaultAzureCredential()\n",
        "ml_client = MLClient(credential, subscription_id, resource_group, workspace_name)\n"
      ],
      "outputs": [],
      "execution_count": 1,
      "metadata": {
        "jupyter": {
          "source_hidden": false,
          "outputs_hidden": false
        },
        "nteract": {
          "transient": {
            "deleting": false
          }
        },
        "gather": {
          "logged": 1732009094892
        }
      }
    },
    {
      "cell_type": "code",
      "source": [
        "\n",
        "\n",
        "# deploy the model to AKS\n",
        "import datetime\n",
        "from azure.ai.ml.entities import KubernetesOnlineEndpoint\n",
        "\n",
        "online_endpoint_name= \"k8s-endpoint\"+ datetime.datetime.now().strftime(\"%m%d%H%M%f\")\n",
        "\n",
        "# create an online endpoint\n",
        "endpoint= KubernetesOnlineEndpoint(\n",
        "    name=online_endpoint_name,\n",
        "    compute=\"k8s-compute\",\n",
        "    description=\"this is a sample k8s endpoint\",\n",
        "    auth_mode=\"key\",\n",
        "    tags={\"key\": \"test_deplyoment\"},\n",
        ")\n",
        "\n",
        "\n",
        "\n",
        "\n"
      ],
      "outputs": [],
      "execution_count": 2,
      "metadata": {
        "gather": {
          "logged": 1732009095100
        }
      }
    },
    {
      "cell_type": "code",
      "source": [
        "# then create the endpoint\n",
        "ml_client.begin_create_or_update(endpoint).result()"
      ],
      "outputs": [
        {
          "output_type": "execute_result",
          "execution_count": 3,
          "data": {
            "text/plain": "KubernetesOnlineEndpoint({'provisioning_state': 'Succeeded', 'scoring_uri': 'http://85.210.121.2/api/v1/endpoint/k8s-endpoint11190938791381/score', 'openapi_uri': 'http://85.210.121.2/api/v1/endpoint/k8s-endpoint11190938791381/swagger.json', 'name': 'k8s-endpoint11190938791381', 'description': 'this is a sample k8s endpoint', 'tags': {'key': 'test_deplyoment'}, 'properties': {'createdBy': 'quickfix tech', 'createdAt': '2024-11-19T09:38:18.734879+0000', 'lastModifiedAt': '2024-11-19T09:38:18.734879+0000', 'azureml.onlineendpointid': '/subscriptions/1655f00d-a4c4-4ef2-84e1-fe175ad5cf99/resourcegroups/edforcerg/providers/microsoft.machinelearningservices/workspaces/edforcews/onlineendpoints/k8s-endpoint11190938791381', 'AzureAsyncOperationUri': 'https://management.azure.com/subscriptions/1655f00d-a4c4-4ef2-84e1-fe175ad5cf99/providers/Microsoft.MachineLearningServices/locations/uksouth/mfeOperationsStatus/oeidp:fd82a754-94a7-4b4c-83f0-f1cadb15311c:a4476f33-aead-42ec-a843-08f0746cf0c9?api-version=2022-02-01-preview'}, 'print_as_yaml': False, 'id': '/subscriptions/1655f00d-a4c4-4ef2-84e1-fe175ad5cf99/resourceGroups/edforcerg/providers/Microsoft.MachineLearningServices/workspaces/edforcews/onlineEndpoints/k8s-endpoint11190938791381', 'Resource__source_path': '', 'base_path': '/mnt/batch/tasks/shared/LS_root/mounts/clusters/edforcecompute/code/Users/devops.mar1.2019/Azure-ML-Deployment', 'creation_context': None, 'serialize': <msrest.serialization.Serializer object at 0x7f39fe995c30>, 'auth_mode': 'key', 'location': 'uksouth', 'identity': <azure.ai.ml.entities._credentials.IdentityConfiguration object at 0x7f39fe996cb0>, 'traffic': {}, 'mirror_traffic': {}, 'kind': 'K8S', 'compute': '/subscriptions/1655f00d-a4c4-4ef2-84e1-fe175ad5cf99/resourceGroups/edforcerg/providers/Microsoft.MachineLearningServices/workspaces/edforcews/computes/k8s-compute'})"
          },
          "metadata": {}
        }
      ],
      "execution_count": 3,
      "metadata": {
        "jupyter": {
          "source_hidden": false,
          "outputs_hidden": false
        },
        "nteract": {
          "transient": {
            "deleting": false
          }
        },
        "gather": {
          "logged": 1732009159472
        }
      }
    },
    {
      "cell_type": "code",
      "source": [
        "\n",
        "\n",
        "from azure.ai.ml.entities import KubernetesOnlineDeployment, CodeConfiguration\n",
        "\n",
        "from azure.ai.ml.entities._deployment.resource_requirements_settings import ResourceRequirementsSettings\n",
        "from azure.ai.ml.entities import Environment\n",
        "from azure.ai.ml.entities import Model\n",
        "\n",
        "# configure the deployment\n",
        "model = Model(path=r\"./model/diabetes_model.pkl\")\n",
        "env = Environment(\n",
        "    conda_file=r\"./environment/conda.yaml\",\n",
        "    image=\"mcr.microsoft.com/azureml/minimal-ubuntu18.04-py37-cpu-inference:latest\",\n",
        ")\n",
        "\n",
        "\n",
        "\n"
      ],
      "outputs": [],
      "execution_count": 4,
      "metadata": {
        "jupyter": {
          "source_hidden": false,
          "outputs_hidden": false
        },
        "nteract": {
          "transient": {
            "deleting": false
          }
        },
        "gather": {
          "logged": 1732009159641
        }
      }
    },
    {
      "cell_type": "code",
      "source": [
        "from azure.ai.ml.entities import ResourceSettings\n",
        "\n",
        "from azure.ai.ml.entities import ResourceRequirementsSettings\n",
        "\n",
        "blue_deployment = KubernetesOnlineDeployment(\n",
        "    name=\"blue\",\n",
        "    endpoint_name=online_endpoint_name,\n",
        "    model=model,\n",
        "    environment=env,\n",
        "    code_configuration=CodeConfiguration(\n",
        "        code=r\"./onlinescoring\", scoring_script=\"score.py\"\n",
        "    ),\n",
        "    instance_count=1,\n",
        "    resources=ResourceRequirementsSettings(\n",
        "        requests=ResourceSettings(\n",
        "            cpu=\"100m\",\n",
        "            memory=\"0.5Gi\",\n",
        "        )\n",
        "    ),\n",
        ")\n"
      ],
      "outputs": [],
      "execution_count": 5,
      "metadata": {
        "jupyter": {
          "source_hidden": false,
          "outputs_hidden": false
        },
        "nteract": {
          "transient": {
            "deleting": false
          }
        },
        "gather": {
          "logged": 1732009159789
        }
      }
    },
    {
      "cell_type": "code",
      "source": [
        "ml_client.begin_create_or_update(blue_deployment).result()"
      ],
      "outputs": [
        {
          "output_type": "stream",
          "name": "stderr",
          "text": "Check: endpoint k8s-endpoint11190938791381 exists\n\u001b[32mUploading diabetes_model.pkl\u001b[32m (< 1 MB): 100%|██████████| 21.4k/21.4k [00:00<00:00, 2.23MB/s]\n\u001b[39m\n\n"
        },
        {
          "output_type": "stream",
          "name": "stdout",
          "text": "........."
        }
      ],
      "execution_count": 6,
      "metadata": {
        "jupyter": {
          "source_hidden": false,
          "outputs_hidden": false
        },
        "nteract": {
          "transient": {
            "deleting": false
          }
        },
        "gather": {
          "logged": 1732008852331
        }
      }
    }
  ],
  "metadata": {
    "kernelspec": {
      "name": "python310-sdkv2",
      "language": "python",
      "display_name": "Python 3.10 - SDK v2"
    },
    "language_info": {
      "name": "python",
      "version": "3.10.14",
      "mimetype": "text/x-python",
      "codemirror_mode": {
        "name": "ipython",
        "version": 3
      },
      "pygments_lexer": "ipython3",
      "nbconvert_exporter": "python",
      "file_extension": ".py"
    },
    "microsoft": {
      "ms_spell_check": {
        "ms_spell_check_language": "en"
      },
      "host": {
        "AzureML": {
          "notebookHasBeenCompleted": true
        }
      }
    },
    "kernel_info": {
      "name": "python310-sdkv2"
    },
    "nteract": {
      "version": "nteract-front-end@1.0.0"
    }
  },
  "nbformat": 4,
  "nbformat_minor": 2
}