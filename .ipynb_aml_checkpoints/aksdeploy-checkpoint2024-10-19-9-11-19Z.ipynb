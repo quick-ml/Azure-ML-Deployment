{
  "cells": [
    {
      "cell_type": "code",
      "source": [
        "from azure.identity import DefaultAzureCredential\n",
        "from azure.ai.ml import MLClient\n",
        "\n",
        "# Replace these with your values\n",
        "subscription_id = \"1655f00d-a4c4-4ef2-84e1-fe175ad5cf99\"\n",
        "resource_group = \"edforcerg\"\n",
        "workspace_name = \"edforcews\"\n",
        "\n",
        "# Create an MLClient instance\n",
        "credential = DefaultAzureCredential()\n",
        "ml_client = MLClient(credential, subscription_id, resource_group, workspace_name)\n"
      ],
      "outputs": [],
      "execution_count": 1,
      "metadata": {
        "jupyter": {
          "source_hidden": false,
          "outputs_hidden": false
        },
        "nteract": {
          "transient": {
            "deleting": false
          }
        },
        "gather": {
          "logged": 1732007142464
        }
      }
    },
    {
      "cell_type": "code",
      "source": [
        "\n",
        "\n",
        "# deploy the model to AKS\n",
        "import datetime\n",
        "from azure.ai.ml.entities import KubernetesOnlineEndpoint\n",
        "\n",
        "online_endpoint_name= \"k8s-endpoint\"+ datetime.datetime.now().strftime(\"%m%d%H%M%f\")\n",
        "\n",
        "# create an online endpoint\n",
        "endpoint= KubernetesOnlineEndpoint(\n",
        "    name=online_endpoint_name,\n",
        "    compute=\"k8s-compute\",\n",
        "    description=\"this is a sample k8s endpoint\",\n",
        "    auth_mode=\"key\",\n",
        "    tags={\"key\": \"test_deplyoment\"},\n",
        ")\n",
        "\n",
        "\n",
        "\n",
        "\n"
      ],
      "outputs": [],
      "execution_count": 3,
      "metadata": {
        "gather": {
          "logged": 1732007152796
        }
      }
    },
    {
      "cell_type": "code",
      "source": [
        "# then create the endpoint\n",
        "ml_client.begin_create_or_update(endpoint).result()"
      ],
      "outputs": [
        {
          "output_type": "execute_result",
          "execution_count": 4,
          "data": {
            "text/plain": "KubernetesOnlineEndpoint({'provisioning_state': 'Succeeded', 'scoring_uri': 'http://85.210.121.2/api/v1/endpoint/k8s-endpoint11190905652730/score', 'openapi_uri': 'http://85.210.121.2/api/v1/endpoint/k8s-endpoint11190905652730/swagger.json', 'name': 'k8s-endpoint11190905652730', 'description': 'this is a sample k8s endpoint', 'tags': {'key': 'test_deplyoment'}, 'properties': {'createdBy': 'quickfix tech', 'createdAt': '2024-11-19T09:06:00.164795+0000', 'lastModifiedAt': '2024-11-19T09:06:00.164795+0000', 'azureml.onlineendpointid': '/subscriptions/1655f00d-a4c4-4ef2-84e1-fe175ad5cf99/resourcegroups/edforcerg/providers/microsoft.machinelearningservices/workspaces/edforcews/onlineendpoints/k8s-endpoint11190905652730', 'AzureAsyncOperationUri': 'https://management.azure.com/subscriptions/1655f00d-a4c4-4ef2-84e1-fe175ad5cf99/providers/Microsoft.MachineLearningServices/locations/uksouth/mfeOperationsStatus/oeidp:fd82a754-94a7-4b4c-83f0-f1cadb15311c:89d59ab2-71fe-43f6-8194-7b799cca7f26?api-version=2022-02-01-preview'}, 'print_as_yaml': False, 'id': '/subscriptions/1655f00d-a4c4-4ef2-84e1-fe175ad5cf99/resourceGroups/edforcerg/providers/Microsoft.MachineLearningServices/workspaces/edforcews/onlineEndpoints/k8s-endpoint11190905652730', 'Resource__source_path': '', 'base_path': '/mnt/batch/tasks/shared/LS_root/mounts/clusters/edforcecompute/code/Users/devops.mar1.2019/Azure-ML-Deployment', 'creation_context': None, 'serialize': <msrest.serialization.Serializer object at 0x7fb2381e80d0>, 'auth_mode': 'key', 'location': 'uksouth', 'identity': <azure.ai.ml.entities._credentials.IdentityConfiguration object at 0x7fb238b95fc0>, 'traffic': {}, 'mirror_traffic': {}, 'kind': 'K8S', 'compute': '/subscriptions/1655f00d-a4c4-4ef2-84e1-fe175ad5cf99/resourceGroups/edforcerg/providers/Microsoft.MachineLearningServices/workspaces/edforcews/computes/k8s-compute'})"
          },
          "metadata": {}
        }
      ],
      "execution_count": 4,
      "metadata": {
        "jupyter": {
          "source_hidden": false,
          "outputs_hidden": false
        },
        "nteract": {
          "transient": {
            "deleting": false
          }
        },
        "gather": {
          "logged": 1732007221365
        }
      }
    },
    {
      "cell_type": "code",
      "source": [
        "\n",
        "\n",
        "from azure.ai.ml.entities import KubernetesOnlineDeployment, CodeConfiguration\n",
        "\n",
        "from azure.ai.ml.entities._deployment.resource_requirements_settings import ResourceRequirementsSettings\n",
        "from azure.ai.ml.entities import Environment\n",
        "from azure.ai.ml.entities import Model\n",
        "\n",
        "# configure the deployment\n",
        "model = Model(path=r\"./model/diabetes_model.pkl\")\n",
        "env = Environment(\n",
        "    conda_file=r\"./environment/conda.yaml\",\n",
        "    image=\"mcr.microsoft.com/azureml/minimal-ubuntu18.04-py37-cpu-inference:latest\",\n",
        ")\n",
        "\n",
        "\n",
        "\n"
      ],
      "outputs": [],
      "execution_count": 12,
      "metadata": {
        "jupyter": {
          "source_hidden": false,
          "outputs_hidden": false
        },
        "nteract": {
          "transient": {
            "deleting": false
          }
        },
        "gather": {
          "logged": 1732002362437
        }
      }
    },
    {
      "cell_type": "code",
      "source": [
        "from azure.ai.ml.entities import ResourceSettings\n",
        "\n",
        "from azure.ai.ml.entities import ResourceRequirementsSettings\n",
        "\n",
        "blue_deployment = KubernetesOnlineDeployment(\n",
        "    name=\"blue\",\n",
        "    endpoint_name=online_endpoint_name,\n",
        "    model=model,\n",
        "    environment=env,\n",
        "    code_configuration=CodeConfiguration(\n",
        "        code=r\"./onlinescoring\", scoring_script=\"score.py\"\n",
        "    ),\n",
        "    instance_count=1,\n",
        "    resources=ResourceRequirementsSettings(\n",
        "        requests=ResourceSettings(\n",
        "            cpu=\"100m\",\n",
        "            memory=\"0.5Gi\",\n",
        "        )\n",
        "    ),\n",
        ")\n"
      ],
      "outputs": [],
      "execution_count": 14,
      "metadata": {
        "jupyter": {
          "source_hidden": false,
          "outputs_hidden": false
        },
        "nteract": {
          "transient": {
            "deleting": false
          }
        },
        "gather": {
          "logged": 1732002905322
        }
      }
    },
    {
      "cell_type": "code",
      "source": [
        "ml_client.begin_create_or_update(blue_deployment).result()"
      ],
      "outputs": [
        {
          "output_type": "stream",
          "name": "stderr",
          "text": "Check: endpoint k8s-endpoint11190737994851 exists\n\u001b[32mUploading onlinescoring (0.0 MBs): 100%|██████████| 1524/1524 [00:00<00:00, 222652.11it/s]\n\u001b[39m\n\n\u001b[32mUploading sklearn_regression_model.pkl\u001b[32m (< 1 MB): 100%|██████████| 756/756 [00:00<00:00, 63.0kB/s]\n\u001b[39m\n\n"
        },
        {
          "output_type": "stream",
          "name": "stdout",
          "text": "............................................................................................................................................................"
        },
        {
          "output_type": "execute_result",
          "execution_count": 15,
          "data": {
            "text/plain": "KubernetesOnlineDeployment({'provisioning_state': 'Succeeded', 'endpoint_name': 'k8s-endpoint11190737994851', 'type': 'Kubernetes', 'name': 'blue', 'description': None, 'tags': {}, 'properties': {'AzureAsyncOperationUri': 'https://management.azure.com/subscriptions/1655f00d-a4c4-4ef2-84e1-fe175ad5cf99/providers/Microsoft.MachineLearningServices/locations/uksouth/mfeOperationsStatus/odidp:fd82a754-94a7-4b4c-83f0-f1cadb15311c:4ceaa65e-a80f-421e-96e8-5ef41da8df0e?api-version=2023-04-01-preview'}, 'print_as_yaml': False, 'id': '/subscriptions/1655f00d-a4c4-4ef2-84e1-fe175ad5cf99/resourceGroups/edforcerg/providers/Microsoft.MachineLearningServices/workspaces/edforcews/onlineEndpoints/k8s-endpoint11190737994851/deployments/blue', 'Resource__source_path': '', 'base_path': '/mnt/batch/tasks/shared/LS_root/mounts/clusters/edforcecompute/code/Users/devops.mar1.2019/azureml-examples/sdk/python/endpoints/online/model-2', 'creation_context': None, 'serialize': <msrest.serialization.Serializer object at 0x7f4e8f76c880>, 'model': '/subscriptions/1655f00d-a4c4-4ef2-84e1-fe175ad5cf99/resourceGroups/edforcerg/providers/Microsoft.MachineLearningServices/workspaces/edforcews/models/7713d7a5680d37a33a7ac52530aec294/versions/1', 'code_configuration': {'code': '/subscriptions/1655f00d-a4c4-4ef2-84e1-fe175ad5cf99/resourceGroups/edforcerg/providers/Microsoft.MachineLearningServices/workspaces/edforcews/codes/91ea694d-973d-45f0-819c-bd9a96b60c22/versions/1'}, 'environment': '/subscriptions/1655f00d-a4c4-4ef2-84e1-fe175ad5cf99/resourceGroups/edforcerg/providers/Microsoft.MachineLearningServices/workspaces/edforcews/environments/CliV2AnonymousEnvironment/versions/67dbdaef4eac03771ef13ee3f97e59a4', 'environment_variables': {'AZUREML_MODEL_DIR': '/var/azureml-app/azureml-models/7713d7a5680d37a33a7ac52530aec294/1', 'SERVICE_PATH_PREFIX': 'api/v1/endpoint/k8s-endpoint11190737994851', 'SERVICE_NAME': 'k8s-endpoint11190737994851', 'AZUREML_ENTRY_SCRIPT': 'score.py', 'AML_APP_ROOT': '/var/azureml-app/onlinescoring'}, 'app_insights_enabled': False, 'scale_settings': <azure.ai.ml.entities._deployment.scale_settings.TargetUtilizationScaleSettings object at 0x7f4e8f76c2b0>, 'request_settings': <azure.ai.ml.entities._deployment.deployment_settings.OnlineRequestSettings object at 0x7f4e8f76cd90>, 'liveness_probe': <azure.ai.ml.entities._deployment.deployment_settings.ProbeSettings object at 0x7f4e8f76dcf0>, 'readiness_probe': <azure.ai.ml.entities._deployment.deployment_settings.ProbeSettings object at 0x7f4e8f76dde0>, 'instance_count': None, 'arm_type': 'online_deployment', 'model_mount_path': None, 'instance_type': None, 'data_collector': None, 'resources': <azure.ai.ml.entities._deployment.resource_requirements_settings.ResourceRequirementsSettings object at 0x7f4e8f76e020>})"
          },
          "metadata": {}
        }
      ],
      "execution_count": 15,
      "metadata": {
        "jupyter": {
          "source_hidden": false,
          "outputs_hidden": false
        },
        "nteract": {
          "transient": {
            "deleting": false
          }
        },
        "gather": {
          "logged": 1732003765090
        }
      }
    }
  ],
  "metadata": {
    "kernelspec": {
      "name": "python310-sdkv2",
      "language": "python",
      "display_name": "Python 3.10 - SDK v2"
    },
    "language_info": {
      "name": "python",
      "version": "3.10.14",
      "mimetype": "text/x-python",
      "codemirror_mode": {
        "name": "ipython",
        "version": 3
      },
      "pygments_lexer": "ipython3",
      "nbconvert_exporter": "python",
      "file_extension": ".py"
    },
    "microsoft": {
      "ms_spell_check": {
        "ms_spell_check_language": "en"
      },
      "host": {
        "AzureML": {
          "notebookHasBeenCompleted": true
        }
      }
    },
    "kernel_info": {
      "name": "python310-sdkv2"
    },
    "nteract": {
      "version": "nteract-front-end@1.0.0"
    }
  },
  "nbformat": 4,
  "nbformat_minor": 2
}